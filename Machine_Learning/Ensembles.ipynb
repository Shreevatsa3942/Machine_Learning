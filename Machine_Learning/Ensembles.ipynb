{
 "cells": [
  {
   "cell_type": "code",
   "execution_count": 1,
   "id": "b4b683f3",
   "metadata": {},
   "outputs": [],
   "source": [
    "#Ensembles\n",
    "#Name: Shreevatsa\n",
    "#Regno: 200970093\n",
    "#Dataset: mtcars\n",
    "import pandas as pd\n"
   ]
  },
  {
   "cell_type": "code",
   "execution_count": 2,
   "id": "de817dfd",
   "metadata": {},
   "outputs": [
    {
     "data": {
      "text/html": [
       "<div>\n",
       "<style scoped>\n",
       "    .dataframe tbody tr th:only-of-type {\n",
       "        vertical-align: middle;\n",
       "    }\n",
       "\n",
       "    .dataframe tbody tr th {\n",
       "        vertical-align: top;\n",
       "    }\n",
       "\n",
       "    .dataframe thead th {\n",
       "        text-align: right;\n",
       "    }\n",
       "</style>\n",
       "<table border=\"1\" class=\"dataframe\">\n",
       "  <thead>\n",
       "    <tr style=\"text-align: right;\">\n",
       "      <th></th>\n",
       "      <th>model</th>\n",
       "      <th>mpg</th>\n",
       "      <th>cyl</th>\n",
       "      <th>disp</th>\n",
       "      <th>hp</th>\n",
       "      <th>drat</th>\n",
       "      <th>wt</th>\n",
       "      <th>qsec</th>\n",
       "      <th>vs</th>\n",
       "      <th>am</th>\n",
       "      <th>gear</th>\n",
       "      <th>carb</th>\n",
       "    </tr>\n",
       "  </thead>\n",
       "  <tbody>\n",
       "    <tr>\n",
       "      <th>0</th>\n",
       "      <td>Mazda RX4</td>\n",
       "      <td>21.0</td>\n",
       "      <td>6</td>\n",
       "      <td>160.0</td>\n",
       "      <td>110</td>\n",
       "      <td>3.90</td>\n",
       "      <td>2.620</td>\n",
       "      <td>16.46</td>\n",
       "      <td>0</td>\n",
       "      <td>1</td>\n",
       "      <td>4</td>\n",
       "      <td>4</td>\n",
       "    </tr>\n",
       "    <tr>\n",
       "      <th>1</th>\n",
       "      <td>Mazda RX4 Wag</td>\n",
       "      <td>21.0</td>\n",
       "      <td>6</td>\n",
       "      <td>160.0</td>\n",
       "      <td>110</td>\n",
       "      <td>3.90</td>\n",
       "      <td>2.875</td>\n",
       "      <td>17.02</td>\n",
       "      <td>0</td>\n",
       "      <td>1</td>\n",
       "      <td>4</td>\n",
       "      <td>4</td>\n",
       "    </tr>\n",
       "    <tr>\n",
       "      <th>2</th>\n",
       "      <td>Datsun 710</td>\n",
       "      <td>22.8</td>\n",
       "      <td>4</td>\n",
       "      <td>108.0</td>\n",
       "      <td>93</td>\n",
       "      <td>3.85</td>\n",
       "      <td>2.320</td>\n",
       "      <td>18.61</td>\n",
       "      <td>1</td>\n",
       "      <td>1</td>\n",
       "      <td>4</td>\n",
       "      <td>1</td>\n",
       "    </tr>\n",
       "    <tr>\n",
       "      <th>3</th>\n",
       "      <td>Hornet 4 Drive</td>\n",
       "      <td>21.4</td>\n",
       "      <td>6</td>\n",
       "      <td>258.0</td>\n",
       "      <td>110</td>\n",
       "      <td>3.08</td>\n",
       "      <td>3.215</td>\n",
       "      <td>19.44</td>\n",
       "      <td>1</td>\n",
       "      <td>0</td>\n",
       "      <td>3</td>\n",
       "      <td>1</td>\n",
       "    </tr>\n",
       "    <tr>\n",
       "      <th>4</th>\n",
       "      <td>Hornet Sportabout</td>\n",
       "      <td>18.7</td>\n",
       "      <td>8</td>\n",
       "      <td>360.0</td>\n",
       "      <td>175</td>\n",
       "      <td>3.15</td>\n",
       "      <td>3.440</td>\n",
       "      <td>17.02</td>\n",
       "      <td>0</td>\n",
       "      <td>0</td>\n",
       "      <td>3</td>\n",
       "      <td>2</td>\n",
       "    </tr>\n",
       "  </tbody>\n",
       "</table>\n",
       "</div>"
      ],
      "text/plain": [
       "               model   mpg  cyl   disp   hp  drat     wt   qsec  vs  am  gear  \\\n",
       "0          Mazda RX4  21.0    6  160.0  110  3.90  2.620  16.46   0   1     4   \n",
       "1      Mazda RX4 Wag  21.0    6  160.0  110  3.90  2.875  17.02   0   1     4   \n",
       "2         Datsun 710  22.8    4  108.0   93  3.85  2.320  18.61   1   1     4   \n",
       "3     Hornet 4 Drive  21.4    6  258.0  110  3.08  3.215  19.44   1   0     3   \n",
       "4  Hornet Sportabout  18.7    8  360.0  175  3.15  3.440  17.02   0   0     3   \n",
       "\n",
       "   carb  \n",
       "0     4  \n",
       "1     4  \n",
       "2     1  \n",
       "3     1  \n",
       "4     2  "
      ]
     },
     "execution_count": 2,
     "metadata": {},
     "output_type": "execute_result"
    }
   ],
   "source": [
    "df = pd.read_csv('Dataset/mtcars.csv')\n",
    "df.head()"
   ]
  },
  {
   "cell_type": "code",
   "execution_count": 3,
   "id": "27e3624a",
   "metadata": {},
   "outputs": [
    {
     "data": {
      "text/plain": [
       "Index(['model', 'mpg', 'cyl', 'disp', 'hp', 'drat', 'wt', 'qsec', 'vs', 'am',\n",
       "       'gear', 'carb'],\n",
       "      dtype='object')"
      ]
     },
     "execution_count": 3,
     "metadata": {},
     "output_type": "execute_result"
    }
   ],
   "source": [
    "df.columns"
   ]
  },
  {
   "cell_type": "code",
   "execution_count": 4,
   "id": "4470a6a0",
   "metadata": {},
   "outputs": [
    {
     "data": {
      "text/plain": [
       "model    0\n",
       "mpg      0\n",
       "cyl      0\n",
       "disp     0\n",
       "hp       0\n",
       "drat     0\n",
       "wt       0\n",
       "qsec     0\n",
       "vs       0\n",
       "am       0\n",
       "gear     0\n",
       "carb     0\n",
       "dtype: int64"
      ]
     },
     "execution_count": 4,
     "metadata": {},
     "output_type": "execute_result"
    }
   ],
   "source": [
    "df.isna().sum()"
   ]
  },
  {
   "cell_type": "code",
   "execution_count": 5,
   "id": "ed0193bb",
   "metadata": {},
   "outputs": [
    {
     "data": {
      "text/plain": [
       "(32, 12)"
      ]
     },
     "execution_count": 5,
     "metadata": {},
     "output_type": "execute_result"
    }
   ],
   "source": [
    "df.shape"
   ]
  },
  {
   "cell_type": "code",
   "execution_count": 6,
   "id": "0afbc18d",
   "metadata": {},
   "outputs": [],
   "source": [
    "\n",
    "x= df.drop(columns = 'carb')\n",
    "y = df['carb']\n",
    "x = x.drop(columns = 'model')"
   ]
  },
  {
   "cell_type": "code",
   "execution_count": 7,
   "id": "1d223547",
   "metadata": {},
   "outputs": [],
   "source": [
    "from sklearn.model_selection import train_test_split\n",
    "X_train,X_test,Y_train,Y_test=train_test_split(x,y,test_size=0.3)"
   ]
  },
  {
   "cell_type": "code",
   "execution_count": 8,
   "id": "b29332d9",
   "metadata": {},
   "outputs": [],
   "source": [
    "from sklearn.neighbors import KNeighborsClassifier\n",
    "model = KNeighborsClassifier()\n",
    "knn = model.fit(X_train,Y_train)"
   ]
  },
  {
   "cell_type": "code",
   "execution_count": 9,
   "id": "928f05e9",
   "metadata": {},
   "outputs": [],
   "source": [
    "from sklearn.tree import DecisionTreeClassifier\n",
    "model2=DecisionTreeClassifier(criterion='entropy',max_depth=1)\n",
    "dt = model2.fit(X_train,Y_train)"
   ]
  },
  {
   "cell_type": "code",
   "execution_count": 10,
   "id": "8bba4808",
   "metadata": {},
   "outputs": [],
   "source": [
    "from sklearn.naive_bayes import GaussianNB\n",
    "model3=GaussianNB()\n",
    "nb = model3.fit(X_train,Y_train)"
   ]
  },
  {
   "cell_type": "code",
   "execution_count": 11,
   "id": "0e7da25a",
   "metadata": {},
   "outputs": [],
   "source": [
    "from sklearn.svm import SVC\n",
    "model4=SVC()\n",
    "svm = model4.fit(X_train,Y_train)"
   ]
  },
  {
   "cell_type": "code",
   "execution_count": 12,
   "id": "e055b41c",
   "metadata": {},
   "outputs": [],
   "source": [
    "pred1=model.predict(X_test)\n",
    "pred2=model2.predict(X_test)\n",
    "pred3=model3.predict(X_test)\n",
    "pred4=model4.predict(X_test)"
   ]
  },
  {
   "cell_type": "code",
   "execution_count": 13,
   "id": "0321a8f5",
   "metadata": {},
   "outputs": [
    {
     "name": "stdout",
     "output_type": "stream",
     "text": [
      "KNN:  60.0\n"
     ]
    }
   ],
   "source": [
    "print(\"KNN: \",model.score(X_test,Y_test)*100)"
   ]
  },
  {
   "cell_type": "code",
   "execution_count": 14,
   "id": "84f7c050",
   "metadata": {},
   "outputs": [
    {
     "name": "stdout",
     "output_type": "stream",
     "text": [
      "Decision Tree:  30.0\n"
     ]
    }
   ],
   "source": [
    "print(\"Decision Tree: \",model2.score(X_test,Y_test)*100)"
   ]
  },
  {
   "cell_type": "code",
   "execution_count": 15,
   "id": "11326001",
   "metadata": {},
   "outputs": [
    {
     "name": "stdout",
     "output_type": "stream",
     "text": [
      "Naive Bayes:  50.0\n"
     ]
    }
   ],
   "source": [
    "print(\"Naive Bayes: \",model3.score(X_test,Y_test)*100)"
   ]
  },
  {
   "cell_type": "code",
   "execution_count": 16,
   "id": "2d083579",
   "metadata": {},
   "outputs": [
    {
     "name": "stdout",
     "output_type": "stream",
     "text": [
      "SVM:  40.0\n"
     ]
    }
   ],
   "source": [
    "print(\"SVM: \",model4.score(X_test,Y_test)*100)"
   ]
  },
  {
   "cell_type": "code",
   "execution_count": 17,
   "id": "5e6786cd",
   "metadata": {},
   "outputs": [],
   "source": [
    "from sklearn.pipeline import Pipeline\n",
    "from sklearn.preprocessing import MinMaxScaler\n",
    "from sklearn.decomposition import PCA"
   ]
  },
  {
   "cell_type": "code",
   "execution_count": 18,
   "id": "b610c412",
   "metadata": {},
   "outputs": [],
   "source": [
    "knnPipeline = Pipeline([('myscalar',MinMaxScaler()),\n",
    "                        ('mypca',PCA(n_components=2)),\n",
    "                        ('knn_classifier',KNeighborsClassifier())])"
   ]
  },
  {
   "cell_type": "code",
   "execution_count": 19,
   "id": "3ab42b78",
   "metadata": {},
   "outputs": [],
   "source": [
    "dtPipeline = Pipeline([('myscalar',MinMaxScaler()),\n",
    "                       ('mypca',PCA(n_components=2)),\n",
    "                       ('dt_classifier',DecisionTreeClassifier())])"
   ]
  },
  {
   "cell_type": "code",
   "execution_count": 20,
   "id": "6ea2870d",
   "metadata": {},
   "outputs": [],
   "source": [
    "nbPipeline = Pipeline([('myscalar',MinMaxScaler()),\n",
    "                       ('mypca',PCA(n_components=2)),\n",
    "                       ('nb_classifier',GaussianNB())])"
   ]
  },
  {
   "cell_type": "code",
   "execution_count": 21,
   "id": "f5a2af82",
   "metadata": {},
   "outputs": [],
   "source": [
    "svmPipline = Pipeline([('myscalar',MinMaxScaler()),\n",
    "                       ('mypca',PCA(n_components=2)),\n",
    "                       ('svm_classifier',SVC())])"
   ]
  },
  {
   "cell_type": "code",
   "execution_count": 22,
   "id": "3d1d4734",
   "metadata": {},
   "outputs": [],
   "source": [
    "#Model training\n",
    "mypipelines = [knnPipeline,dtPipeline,nbPipeline,svmPipline]"
   ]
  },
  {
   "cell_type": "code",
   "execution_count": 23,
   "id": "e0b51e7f",
   "metadata": {},
   "outputs": [],
   "source": [
    "#creating a pipeline dictionary \n",
    "pipe_dict = {0:'KNN Classifier',1:'DecisionTree Classifier',2:'NaiveBays Classifier',3:'SVM '}"
   ]
  },
  {
   "cell_type": "code",
   "execution_count": 24,
   "id": "e6feed4d",
   "metadata": {},
   "outputs": [],
   "source": [
    "for pipe in mypipelines:\n",
    "    pipe.fit(X_train,Y_train)"
   ]
  },
  {
   "cell_type": "code",
   "execution_count": 25,
   "id": "13066e80",
   "metadata": {},
   "outputs": [
    {
     "name": "stdout",
     "output_type": "stream",
     "text": [
      "KNN Classifier Test Accuracy : 50.0 \n",
      "DecisionTree Classifier Test Accuracy : 60.0 \n",
      "NaiveBays Classifier Test Accuracy : 40.0 \n",
      "SVM  Test Accuracy : 40.0 \n"
     ]
    }
   ],
   "source": [
    "#checking accuracy for each classifiers \n",
    "for i,model in enumerate(mypipelines):\n",
    "    print(\"{} Test Accuracy : {} \".format(pipe_dict[i],\n",
    "                                          model.score(X_test,Y_test)*100))"
   ]
  },
  {
   "cell_type": "code",
   "execution_count": 26,
   "id": "12ab63ee",
   "metadata": {},
   "outputs": [
    {
     "data": {
      "text/plain": [
       "80.0"
      ]
     },
     "execution_count": 26,
     "metadata": {},
     "output_type": "execute_result"
    }
   ],
   "source": [
    "from sklearn.ensemble import AdaBoostClassifier\n",
    "AdaBoost=AdaBoostClassifier(base_estimator=DecisionTreeClassifier(),\n",
    "                            n_estimators=10,\n",
    "                            learning_rate=1)\n",
    "AdaBoost.fit(X_train,Y_train)\n",
    "AdaBoost.score(X_test,Y_test)*100"
   ]
  }
 ],
 "metadata": {
  "kernelspec": {
   "display_name": "Python 3 (ipykernel)",
   "language": "python",
   "name": "python3"
  },
  "language_info": {
   "codemirror_mode": {
    "name": "ipython",
    "version": 3
   },
   "file_extension": ".py",
   "mimetype": "text/x-python",
   "name": "python",
   "nbconvert_exporter": "python",
   "pygments_lexer": "ipython3",
   "version": "3.9.7"
  }
 },
 "nbformat": 4,
 "nbformat_minor": 5
}
