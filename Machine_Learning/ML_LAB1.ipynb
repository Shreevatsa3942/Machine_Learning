{
 "cells": [
  {
   "cell_type": "code",
   "execution_count": 1,
   "id": "c9af7f4f",
   "metadata": {},
   "outputs": [
    {
     "name": "stdout",
     "output_type": "stream",
     "text": [
      "Number of widgets: 23\n",
      "Number of gizmo: 12\n",
      "Total Weight of the order :  2318400\n"
     ]
    }
   ],
   "source": [
    "#program1: An online retailer sells two products: widgets and gizmos. Each widget weighs 75 grams.\n",
    "#Each gizmo weighs 112 grams. Write a program that reads the number of widgets and the\n",
    "#number of gizmos in an order from the user. Then your program should compute and display\n",
    "#the total weight of the order.\n",
    "\n",
    "#Name:Shreevatsa\n",
    "#Regno:200970093\n",
    "#Date:7 sept 2021\n",
    "\n",
    "widget = int(input(\"Number of widgets: \"))\n",
    "gizmo = int(input(\"Number of gizmo: \"))\n",
    "\n",
    "widget *= 75; gizmo *= 112\n",
    "\n",
    "total = widget*gizmo\n",
    "\n",
    "print('Total Weight of the order : ',total)"
   ]
  },
  {
   "cell_type": "code",
   "execution_count": 2,
   "id": "6a445849",
   "metadata": {},
   "outputs": [
    {
     "name": "stdout",
     "output_type": "stream",
     "text": [
      "Enter the Human Years: 13\n",
      "Dog years:  65.0  years\n"
     ]
    }
   ],
   "source": [
    "#program2: It is commonly said that one human year is equivalent to 7 dog years. However this simple\n",
    "#conversion fails to recognize that dogs reach adulthood in approximately two years. As a result,\n",
    "#some people believe that it is better to count each of the first two human years as 10.5 dog\n",
    "#years, and then count each additional human year as 4 dog years.\n",
    "#Write a program that implements the conversion from human years to dog years described in\n",
    "#the previous paragraph. Ensure that your program works correctly for conversions of less than\n",
    "#two human years and for conversions of two or more human years. Your program should\n",
    "#display an appropriate error message if the user enters a negative number.\n",
    "\n",
    "#Name:Shreevatsa\n",
    "#Regno:200970093\n",
    "#Date:7 sept 2021\n",
    "\n",
    "h_years = int(input('Enter the Human Years: '))\n",
    "\n",
    "if(h_years < 2):\n",
    "    print(\"Human year must be greater than 2!!\")\n",
    "else:\n",
    "    human_years = h_years - 2;\n",
    "    dog_years = ( 2 * 10.5 ) + (human_years * 4)\n",
    "\n",
    "print(\"Dog years: \",dog_years,\" years\")"
   ]
  },
  {
   "cell_type": "code",
   "execution_count": 3,
   "id": "b79b7ae0",
   "metadata": {},
   "outputs": [
    {
     "name": "stdout",
     "output_type": "stream",
     "text": [
      "Enter the name of the month: February\n",
      "28 or 29\n"
     ]
    }
   ],
   "source": [
    "#Program3:The length of a month varies from 28 to 31 days. In this exercise you will create a program\n",
    "#that reads the name of a month from the user as a string. Then your program should display the\n",
    "#number of days in that month. Display “28 or 29 days” for February so that leap years are\n",
    "#addressed.\n",
    "\n",
    "#Name:Shreevatsa\n",
    "#Regno:200970093\n",
    "#Date:7 sept 2021\n",
    "\n",
    "month = input('Enter the name of the month: ').lower()\n",
    "switch = {\n",
    "    \"january\": 31,\n",
    "    \"february\":\"28 or 29\",\n",
    "    \"march\":31,\n",
    "    \"april\":30,\n",
    "    \"may\":31,\n",
    "    \"june\":30,\n",
    "    \"july\":31,\n",
    "    \"august\":31,\n",
    "    \"september\":30,\n",
    "    \"october\":31,\n",
    "    \"november\":30,\n",
    "    \"december\":31\n",
    "}\n",
    "print(switch.get(month,\"Invalid Month\"))"
   ]
  },
  {
   "cell_type": "code",
   "execution_count": 4,
   "id": "19a7558c",
   "metadata": {},
   "outputs": [
    {
     "name": "stdout",
     "output_type": "stream",
     "text": [
      "Enter the position in the chess board: d7\n",
      "White square\n"
     ]
    }
   ],
   "source": [
    "#Program4:Positions on a chess board are identified by a letter and a number. The letter identifies\n",
    "#the column, while the number identifies the row, as shown below:\n",
    "\n",
    "#Write a program that reads a position from the user. Use an if statement to determine if the\n",
    "#column begins with a black square or a white square. Then use modular arithmetic to report\n",
    "#the color of the square in that row. For example, if the user enters a1 then your program should\n",
    "#report that the square is black. If the user enters d5 then your program should report that the\n",
    "#square is white. Your program may assume that a valid position will always be entered. It does\n",
    "#not need to perform any error checking.\n",
    "\n",
    "#Name:Shreevatsa\n",
    "#Regno:200970093\n",
    "#Date:7 sept 2021\n",
    "\n",
    "position = input(\"Enter the position in the chess board: \") \n",
    "\n",
    "first_black = [\"a\",\"c\",\"e\",\"g\"]\n",
    "first_white = [\"b\",\"d\",\"f\",\"h\"]\n",
    "\n",
    "letter = position[0:1]\n",
    "number = int(position[1:])\n",
    "\n",
    "square = 0\n",
    "if len(position)==2 and letter in first_black:\n",
    "    if number%2 == 0:\n",
    "        square = 1\n",
    "    else:\n",
    "        square = 2\n",
    "elif len(position)==2 and letter in first_white:\n",
    "    if number%2 == 0:\n",
    "        square = 2\n",
    "    else:\n",
    "        square = 1\n",
    "else:\n",
    "    print(\"Invalid position\")\n",
    "    \n",
    "    \n",
    "if(square == 1):\n",
    "    print(\"White square\")\n",
    "elif(square == 2):\n",
    "    print(\"Black square\")\n",
    "else:\n",
    "    print(\"Invalid square\")"
   ]
  },
  {
   "cell_type": "code",
   "execution_count": 5,
   "id": "4bd9a123",
   "metadata": {},
   "outputs": [
    {
     "name": "stdout",
     "output_type": "stream",
     "text": [
      "Enter a string: malayalam\n",
      "malayalam is a Pallindrome \n"
     ]
    }
   ],
   "source": [
    "#Program5 : A string is a palindrome if it is identical forward and backward. For example “anna”, “civic”,\n",
    "# “level” and “hannah” are all examples of palindromic words. Write a program that reads a\n",
    "# string from the user and uses a loop to determines whether or not it is a palindrome. Display\n",
    "# the result, including a meaningful output message.\n",
    "# Note: Write a user-defined function that takes a string as user input from the terminal and\n",
    "# returns the status as “palindrome” or “non-palindrome”.\n",
    "\n",
    "#Name:Shreevatsa\n",
    "#Regno:200970093\n",
    "#Date:7 sept 2021\n",
    "\n",
    "#pallindrome function\n",
    "def isPallindrome(s):\n",
    "    half = int(len(s)/2)\n",
    "    length = int(len(s))\n",
    "    \n",
    "    for i in range(0, half):\n",
    "        if s[i] != s[length-i-1]:\n",
    "            return False\n",
    "    return True\n",
    "\n",
    "#main code\n",
    "st = input(\"Enter a string: \")\n",
    "\n",
    "if(isPallindrome(st)):\n",
    "    print(st,\"is a Pallindrome \")\n",
    "else:\n",
    "    print(st,\"is not a Pallindrome\")\n"
   ]
  },
  {
   "cell_type": "code",
   "execution_count": 8,
   "id": "263cd018",
   "metadata": {},
   "outputs": [],
   "source": [
    "#Program6 : When analysing data collected as part of a science experiment it may be desirable to remove\n",
    "# the most extreme values before performing other calculations. Write a function that takes a list\n",
    "# of values and an non-negative integer, n, as its parameters. The function should create a new\n",
    "# copy of the list with the n largest elements and the n smallest elements removed. Then it should\n",
    "# return the new copy of the list as the function’s only result. The order of the elements in the\n",
    "# returned list does not have to match the order of the elements in the original list.\n",
    "\n",
    "\n",
    "#Name:Shreevatsa\n",
    "#Regno:200970093\n",
    "#Date:7 sept 2021\n",
    "\n",
    "\n",
    "def Remove_N_Values(list1,k):\n",
    "    result = []\n",
    "    while(k > 0):\n",
    "        max_ele = max(list1)\n",
    "        min_ele = min(list1)\n",
    "        result.append(max_ele)\n",
    "        result.append(min_ele)\n",
    "        list1.remove(max_ele)\n",
    "        list1.remove(min_ele)\n",
    "        k -= 1\n",
    "        \n",
    "    return result"
   ]
  },
  {
   "cell_type": "code",
   "execution_count": 14,
   "id": "c4d2a889",
   "metadata": {},
   "outputs": [
    {
     "name": "stdout",
     "output_type": "stream",
     "text": [
      "Enter the size of the list : 12\n",
      "32\n",
      "45\n",
      "32\n",
      "13\n",
      "65\n",
      "98\n",
      "65\n",
      "42\n",
      "90\n",
      "53\n",
      "13\n",
      "09\n",
      "Enter the value of k : 3\n",
      "[98, 9, 90, 13, 65, 13]\n"
     ]
    }
   ],
   "source": [
    "n = int(input('Enter the size of the list : '))\n",
    "list1 = []\n",
    "while(n > 0):\n",
    "    ele = int(input())\n",
    "    list1.append(ele)\n",
    "    n -=1\n",
    "\n",
    "k1 = int(input('Enter the value of k : '))\n",
    "new_list = Remove_N_Values(list1,k1)              \n",
    "print(new_list)"
   ]
  },
  {
   "cell_type": "code",
   "execution_count": 9,
   "id": "177d921d",
   "metadata": {},
   "outputs": [
    {
     "name": "stdout",
     "output_type": "stream",
     "text": [
      "Enter the number of elements: 8\n",
      "98\n",
      "1\n",
      "0\n",
      "87\n",
      "109\n",
      "2\n",
      "45\n",
      "123\n",
      "Original List:  [98, 87, 2, 45]\n",
      "outliers removed:  [0, 1, 123, 109]\n"
     ]
    }
   ],
   "source": [
    "#Program7:Your function should read a list of numbers from the user and remove the two largest and\n",
    "#two smallest values from it. Display the list with the outliers removed, followed by the original\n",
    "#list. Your program should generate an appropriate error message if the user enters less than 4 values.\n",
    "\n",
    "n = int(input(\"Enter the number of elements: \"))\n",
    "\n",
    "if n<4:\n",
    "    print(\"List size should not be less than 4!!\")\n",
    "else:\n",
    "    lst = []\n",
    "    for i in range(0,n):\n",
    "        lst.append(int(input()))\n",
    "\n",
    "    \n",
    "    outliers = []\n",
    "    \n",
    "    outliers.append(min(lst))\n",
    "    lst.remove(min(lst))\n",
    "    outliers.append(min(lst))\n",
    "    lst.remove(min(lst))\n",
    "    \n",
    "    outliers.append(max(lst))\n",
    "    lst.remove(max(lst))\n",
    "    outliers.append(max(lst))\n",
    "    lst.remove(max(lst))\n",
    "    \n",
    "    print(\"Original List: \",lst)\n",
    "    print(\"outliers removed: \",outliers)"
   ]
  },
  {
   "cell_type": "code",
   "execution_count": 22,
   "id": "af5f0bff",
   "metadata": {
    "scrolled": true
   },
   "outputs": [
    {
     "name": "stdout",
     "output_type": "stream",
     "text": [
      "Enter 10 integers\n",
      "12\n",
      "22\n",
      "1\n",
      "98\n",
      "102\n",
      "54\n",
      "23\n",
      "98\n",
      "97\n",
      "154\n",
      "Minimum:  1 \n",
      "Maximum:  154 \n",
      "Mean:  66.1 \n",
      "Median:  75.5 \n",
      "Mode:  98\n",
      "\n",
      "Sort the list : \n",
      "1.Ascending\n",
      "2.Descending\n",
      "Enter your choice: 2\n",
      "[154, 102, 98, 98, 97, 54, 23, 22, 12, 1]\n"
     ]
    }
   ],
   "source": [
    "#Program8 : Write a program that takes a set of 10 integers as user input. Store these values in a List Data\n",
    "# Structure. Write a user-defined function to print the following by using appropriate user-\n",
    "# defined functions:\n",
    "\n",
    "import statistics as st\n",
    "\n",
    "print(\"Enter 10 integers\")\n",
    "lst = []\n",
    "for i in range(0,10):\n",
    "    lst.append(int(input()))\n",
    "    \n",
    "    \n",
    "# (i) Find the minimum, maximum, median, and mode values.\n",
    "minimum = min(lst)\n",
    "maximum = max(lst)\n",
    "mean = st.mean(lst)\n",
    "median = st.median(lst)\n",
    "mode = st.mode(lst)\n",
    "\n",
    "print(\"Minimum: \",minimum,\"\\nMaximum: \",maximum,\"\\nMean: \",mean,\"\\nMedian: \",median,\"\\nMode: \",mode)\n",
    "\n",
    "\n",
    "\n",
    "#(2) user-defined function to sort the data in either ascending or descending order based\n",
    "# on the user choice\n",
    "# def swap_fn(a,b):\n",
    "#     temp = a\n",
    "#     a = b\n",
    "#     b = temp\n",
    "    \n",
    "def sortAsc(list1):\n",
    "    length = int(len(list1))\n",
    "    for i in range(0,length):\n",
    "        for j in range(i+1,length):\n",
    "            if list1[i] > list1[j]:\n",
    "                #swap_fn(list1[i],list1[j])\n",
    "                temp = list1[i]\n",
    "                list1[i] = list1[j]\n",
    "                list1[j] = temp\n",
    "    print(list1)\n",
    "\n",
    "def sortDesc(list1):\n",
    "    length = int(len(list1))\n",
    "    for i in range(0,length):\n",
    "        for j in range(i+1,length):\n",
    "            if list1[i] < list1[j]:\n",
    "                #swap_fn(list1[i],list1[j])\n",
    "                temp = list1[i]\n",
    "                list1[i] = list1[j]\n",
    "                list1[j] = temp\n",
    "    print(list1)\n",
    "                \n",
    "\n",
    "choice = int(input(\"\\nSort the list : \\n1.Ascending\\n2.Descending\\nEnter your choice: \"))\n",
    "if(choice == 1):\n",
    "    sortAsc(lst)\n",
    "elif choice == 2:\n",
    "    sortDesc(lst)\n",
    "else:\n",
    "    print(\"\\nInvalid choice !!\")\n"
   ]
  }
 ],
 "metadata": {
  "kernelspec": {
   "display_name": "Python 3 (ipykernel)",
   "language": "python",
   "name": "python3"
  },
  "language_info": {
   "codemirror_mode": {
    "name": "ipython",
    "version": 3
   },
   "file_extension": ".py",
   "mimetype": "text/x-python",
   "name": "python",
   "nbconvert_exporter": "python",
   "pygments_lexer": "ipython3",
   "version": "3.8.8"
  }
 },
 "nbformat": 4,
 "nbformat_minor": 5
}
