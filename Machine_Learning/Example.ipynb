{
 "cells": [
  {
   "cell_type": "code",
   "execution_count": 1,
   "id": "8380d384",
   "metadata": {},
   "outputs": [
    {
     "name": "stdout",
     "output_type": "stream",
     "text": [
      "Enter the value for n: 50\n",
      "Sum of  50  integers :  1225\n"
     ]
    }
   ],
   "source": [
    "#program1 : program to accept 'n' positive integers and display their sum\n",
    "#name:Shreevatsa\n",
    "#regno:200970093\n",
    "\n",
    "n = int(input('Enter the value for n: '))\n",
    "sum = 0\n",
    "for i in range(1,n):\n",
    "    sum+=i\n",
    "    \n",
    "print('Sum of ',n,' integers : ',sum)"
   ]
  },
  {
   "cell_type": "code",
   "execution_count": 2,
   "id": "a0c0f2bd",
   "metadata": {},
   "outputs": [
    {
     "name": "stdout",
     "output_type": "stream",
     "text": [
      "Enter the value for feet: 34\n",
      "Inches:  408\n"
     ]
    }
   ],
   "source": [
    "#program2 : Program that reads a number of feets from the user and displays its equivalant inches\n",
    "#name:Shreevatsa\n",
    "#regno:200970093\n",
    "\n",
    "feet = int(input('Enter the value for feet: '))\n",
    "inch = feet*12\n",
    "\n",
    "print(\"Inches: \",inch)"
   ]
  },
  {
   "cell_type": "code",
   "execution_count": 3,
   "id": "6f6b1265",
   "metadata": {},
   "outputs": [
    {
     "name": "stdout",
     "output_type": "stream",
     "text": [
      "Enter the Human Years: 30\n",
      "Dog years:  2.0  years\n"
     ]
    }
   ],
   "source": [
    "#program3 : Program to convert from human years to dog years\n",
    "#name:Shreevatsa\n",
    "#regno:200970093\n",
    "\n",
    "h_years = int(input('Enter the Human Years: '))\n",
    "dog_years = h_years/15\n",
    "\n",
    "print(\"Dog years: \",dog_years,\" years\")"
   ]
  },
  {
   "cell_type": "code",
   "execution_count": 4,
   "id": "6f1dd50d",
   "metadata": {},
   "outputs": [
    {
     "name": "stdout",
     "output_type": "stream",
     "text": [
      "Enter the name of the month: December\n",
      "31\n"
     ]
    }
   ],
   "source": [
    "#program4: Program to read the name of the month from the user and display the number of days in that month\n",
    "#name:Shreevatsa\n",
    "#regno:200970093\n",
    "\n",
    "month = input('Enter the name of the month: ').lower()\n",
    "switch = {\n",
    "    \"january\": 31,\n",
    "    \"february\":28,\n",
    "    \"march\":31,\n",
    "    \"april\":30,\n",
    "    \"may\":31,\n",
    "    \"june\":30,\n",
    "    \"july\":31,\n",
    "    \"august\":31,\n",
    "    \"september\":30,\n",
    "    \"october\":31,\n",
    "    \"november\":30,\n",
    "    \"december\":31\n",
    "}\n",
    "print(switch.get(month,\"Invalid Month\"))"
   ]
  }
 ],
 "metadata": {
  "kernelspec": {
   "display_name": "Python 3 (ipykernel)",
   "language": "python",
   "name": "python3"
  },
  "language_info": {
   "codemirror_mode": {
    "name": "ipython",
    "version": 3
   },
   "file_extension": ".py",
   "mimetype": "text/x-python",
   "name": "python",
   "nbconvert_exporter": "python",
   "pygments_lexer": "ipython3",
   "version": "3.8.8"
  }
 },
 "nbformat": 4,
 "nbformat_minor": 5
}
